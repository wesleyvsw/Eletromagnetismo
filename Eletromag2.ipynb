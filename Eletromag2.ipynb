{
  "nbformat": 4,
  "nbformat_minor": 0,
  "metadata": {
    "colab": {
      "provenance": [],
      "authorship_tag": "ABX9TyPjs7mGYwPsQf/BZOT5eNpR"
    },
    "kernelspec": {
      "name": "python3",
      "display_name": "Python 3"
    }
  },
  "cells": [
    {
      "cell_type": "markdown",
      "source": [
        "#Método dos momentos finitos"
      ],
      "metadata": {
        "id": "QQU0UlOBY5eD"
      }
    },
    {
      "cell_type": "markdown",
      "metadata": {
        "id": "DP4HrbJSgosm"
      },
      "source": [
        "#Carga de dois fios condutores lado a lado(paralelos)"
      ]
    },
    {
      "cell_type": "markdown",
      "metadata": {
        "id": "XpaZ-qL1hcLx"
      },
      "source": [
        "Para realizar o problema de fios paralelos condutores, devemos considerar algumas coisas:\n",
        "\n",
        "\n",
        "*   Fios lado a lado, divididos em 10 subpartes(inicialmente)\n",
        "*   Cada fio tem 10 cm de comprimento\n",
        "*   Os fios estão separados a uma distância de 10cm\n",
        "*   Potencial de cada fio: +2\n",
        "*   Esquema dos fios no proximo bloco\n",
        "*   Posso utilizar o método das imagens(Não ficou decidido se irei utilizar)\n",
        "*   Fórmulas para a elaboração da matriz retiradas da equação (18) do artigo\n"
      ]
    },
    {
      "cell_type": "code",
      "metadata": {
        "id": "QywDYc3Jgdea"
      },
      "source": [
        "#importando numpy\n",
        "import numpy as np\n"
      ],
      "execution_count": null,
      "outputs": []
    },
    {
      "cell_type": "markdown",
      "metadata": {
        "id": "qfYUvEAflyta"
      },
      "source": [
        "# Criando a matriz\n",
        "Cada elemento da matriz terá uma fórmula padrão para cálculo enquanto que os elementos da diagonal tem uma fórmula diferente."
      ]
    },
    {
      "cell_type": "code",
      "metadata": {
        "id": "hbzxSFvNluAz",
        "outputId": "ad64cd38-29a5-4417-a514-a8a4cdc56581",
        "colab": {
          "base_uri": "https://localhost:8080/"
        }
      },
      "source": [
        "#Criando cada elemento que será necessário para criar a matriz. Após o criar cada elemento, os dados serão adicionados através da fórmula na matriz \n",
        "delta = 0.1 #Valor de cada intervalo(10cm = 0.1m) --> No eixo x\n",
        "#Criando o meu intervalo de delta achar o ponto x médio\n",
        "posicoes_delta_x = []\n",
        "for x in range(11):\n",
        "  valor = delta*x\n",
        "  posicoes_delta_x.append(round(valor,2))\n",
        "#posicoes_delta_x \n",
        "#Encontrando o ponto médio entre cada delta\n",
        "lista_ponto_medio_b1 = []\n",
        "for x in range(10):\n",
        "  pt_medio_x =(posicoes_delta_x[x]+posicoes_delta_x[x+1])/2\n",
        "  print(pt_medio_x)\n",
        "  lista_ponto_medio_b1.append(round(pt_medio_x,3))\n",
        "lista_ponto_medio_b1\n",
        "lista_ponto_medio_b2 = lista_ponto_medio_b1"
      ],
      "execution_count": null,
      "outputs": [
        {
          "output_type": "stream",
          "text": [
            "0.05\n",
            "0.15000000000000002\n",
            "0.25\n",
            "0.35\n",
            "0.45\n",
            "0.55\n",
            "0.6499999999999999\n",
            "0.75\n",
            "0.8500000000000001\n",
            "0.95\n"
          ],
          "name": "stdout"
        }
      ]
    },
    {
      "cell_type": "code",
      "metadata": {
        "id": "rE7WugCpx5dM",
        "outputId": "ac50da99-8477-439a-a318-9ebfe7b4ac90",
        "colab": {
          "base_uri": "https://localhost:8080/"
        }
      },
      "source": [
        "lista_ponto_medio_b1 #Lista onde se encontram os pontos médios nos fios no eixo x"
      ],
      "execution_count": null,
      "outputs": [
        {
          "output_type": "execute_result",
          "data": {
            "text/plain": [
              "[0.05, 0.15, 0.25, 0.35, 0.45, 0.55, 0.65, 0.75, 0.85, 0.95]"
            ]
          },
          "metadata": {
            "tags": []
          },
          "execution_count": 3
        }
      ]
    },
    {
      "cell_type": "markdown",
      "metadata": {
        "id": "L2WzKkG1sUbS"
      },
      "source": [
        "Criando as funções para substituir na matriz a ser criada"
      ]
    },
    {
      "cell_type": "code",
      "metadata": {
        "id": "9GH9BZ_xFeUN",
        "outputId": "ed4124bf-2612-44f8-b88f-7c6a531a2c13",
        "colab": {
          "base_uri": "https://localhost:8080/"
        }
      },
      "source": [
        "#Criando os elementos da diagonal principal\n",
        "#São 20 elementos, mas só vou colocar um, já que os valores são os mesmos.\n",
        "import math\n",
        "a = 0.01 # Raio do fio\n",
        "diagonal = 2*math.log(delta/a) #Elemento diagonal da matriz\n",
        "dist_y = 0.1  #distancia entre os centros dos fios 1 e 2\n",
        "diagonal"
      ],
      "execution_count": null,
      "outputs": [
        {
          "output_type": "execute_result",
          "data": {
            "text/plain": [
              "4.605170185988092"
            ]
          },
          "metadata": {
            "tags": []
          },
          "execution_count": 4
        }
      ]
    },
    {
      "cell_type": "code",
      "metadata": {
        "id": "S364fkrSnZup",
        "outputId": "e0451cbc-725a-4741-b2a0-c34d64c69f07",
        "colab": {
          "base_uri": "https://localhost:8080/"
        }
      },
      "source": [
        "#Encontrando dmax,dmin, l,z\n",
        "#NÃO CONSIDERAR!!!! - Achei uma forma melhor de resolver\n",
        "dist_y = 0.1 \n",
        "lista_dif = []\n",
        "for x in range(9):\n",
        "  lista_dif.append(round((lista_ponto_medio_b1[9] - lista_ponto_medio_b1[9-x])+0.1,2))\n",
        "lista_dif\n",
        "dmax = []\n",
        "for x in range(9):\n",
        "  dmax.append(round(lista_dif[x] +delta/2,3))\n",
        "dmax\n",
        "dmin = []\n",
        "for x in range(9):\n",
        "  dmin.append(round(lista_dif[x] -delta/2,3))\n",
        "dmin"
      ],
      "execution_count": null,
      "outputs": [
        {
          "output_type": "execute_result",
          "data": {
            "text/plain": [
              "[0.05, 0.15, 0.25, 0.35, 0.45, 0.55, 0.65, 0.75, 0.85]"
            ]
          },
          "metadata": {
            "tags": []
          },
          "execution_count": 5
        }
      ]
    },
    {
      "cell_type": "markdown",
      "metadata": {
        "id": "N3qtDFsU2C9Q"
      },
      "source": [
        "## Substituindo na matriz"
      ]
    },
    {
      "cell_type": "code",
      "metadata": {
        "id": "LwSq9pKArb7E",
        "outputId": "a3f90c9d-616e-4f90-babd-04b4d525362c",
        "colab": {
          "base_uri": "https://localhost:8080/"
        }
      },
      "source": [
        "#Criando a Matriz\n",
        "matriz = np.matrix(np.arange(400.0).reshape((20,20))) #400.0 Matriz ser do tipo float\n",
        "matriz\n",
        "#adicionando o valor da diagonal\n",
        "np.fill_diagonal(matriz,diagonal)\n",
        "matriz"
      ],
      "execution_count": null,
      "outputs": [
        {
          "output_type": "execute_result",
          "data": {
            "text/plain": [
              "matrix([[  4.60517019,   1.        ,   2.        ,   3.        ,\n",
              "           4.        ,   5.        ,   6.        ,   7.        ,\n",
              "           8.        ,   9.        ,  10.        ,  11.        ,\n",
              "          12.        ,  13.        ,  14.        ,  15.        ,\n",
              "          16.        ,  17.        ,  18.        ,  19.        ],\n",
              "        [ 20.        ,   4.60517019,  22.        ,  23.        ,\n",
              "          24.        ,  25.        ,  26.        ,  27.        ,\n",
              "          28.        ,  29.        ,  30.        ,  31.        ,\n",
              "          32.        ,  33.        ,  34.        ,  35.        ,\n",
              "          36.        ,  37.        ,  38.        ,  39.        ],\n",
              "        [ 40.        ,  41.        ,   4.60517019,  43.        ,\n",
              "          44.        ,  45.        ,  46.        ,  47.        ,\n",
              "          48.        ,  49.        ,  50.        ,  51.        ,\n",
              "          52.        ,  53.        ,  54.        ,  55.        ,\n",
              "          56.        ,  57.        ,  58.        ,  59.        ],\n",
              "        [ 60.        ,  61.        ,  62.        ,   4.60517019,\n",
              "          64.        ,  65.        ,  66.        ,  67.        ,\n",
              "          68.        ,  69.        ,  70.        ,  71.        ,\n",
              "          72.        ,  73.        ,  74.        ,  75.        ,\n",
              "          76.        ,  77.        ,  78.        ,  79.        ],\n",
              "        [ 80.        ,  81.        ,  82.        ,  83.        ,\n",
              "           4.60517019,  85.        ,  86.        ,  87.        ,\n",
              "          88.        ,  89.        ,  90.        ,  91.        ,\n",
              "          92.        ,  93.        ,  94.        ,  95.        ,\n",
              "          96.        ,  97.        ,  98.        ,  99.        ],\n",
              "        [100.        , 101.        , 102.        , 103.        ,\n",
              "         104.        ,   4.60517019, 106.        , 107.        ,\n",
              "         108.        , 109.        , 110.        , 111.        ,\n",
              "         112.        , 113.        , 114.        , 115.        ,\n",
              "         116.        , 117.        , 118.        , 119.        ],\n",
              "        [120.        , 121.        , 122.        , 123.        ,\n",
              "         124.        , 125.        ,   4.60517019, 127.        ,\n",
              "         128.        , 129.        , 130.        , 131.        ,\n",
              "         132.        , 133.        , 134.        , 135.        ,\n",
              "         136.        , 137.        , 138.        , 139.        ],\n",
              "        [140.        , 141.        , 142.        , 143.        ,\n",
              "         144.        , 145.        , 146.        ,   4.60517019,\n",
              "         148.        , 149.        , 150.        , 151.        ,\n",
              "         152.        , 153.        , 154.        , 155.        ,\n",
              "         156.        , 157.        , 158.        , 159.        ],\n",
              "        [160.        , 161.        , 162.        , 163.        ,\n",
              "         164.        , 165.        , 166.        , 167.        ,\n",
              "           4.60517019, 169.        , 170.        , 171.        ,\n",
              "         172.        , 173.        , 174.        , 175.        ,\n",
              "         176.        , 177.        , 178.        , 179.        ],\n",
              "        [180.        , 181.        , 182.        , 183.        ,\n",
              "         184.        , 185.        , 186.        , 187.        ,\n",
              "         188.        ,   4.60517019, 190.        , 191.        ,\n",
              "         192.        , 193.        , 194.        , 195.        ,\n",
              "         196.        , 197.        , 198.        , 199.        ],\n",
              "        [200.        , 201.        , 202.        , 203.        ,\n",
              "         204.        , 205.        , 206.        , 207.        ,\n",
              "         208.        , 209.        ,   4.60517019, 211.        ,\n",
              "         212.        , 213.        , 214.        , 215.        ,\n",
              "         216.        , 217.        , 218.        , 219.        ],\n",
              "        [220.        , 221.        , 222.        , 223.        ,\n",
              "         224.        , 225.        , 226.        , 227.        ,\n",
              "         228.        , 229.        , 230.        ,   4.60517019,\n",
              "         232.        , 233.        , 234.        , 235.        ,\n",
              "         236.        , 237.        , 238.        , 239.        ],\n",
              "        [240.        , 241.        , 242.        , 243.        ,\n",
              "         244.        , 245.        , 246.        , 247.        ,\n",
              "         248.        , 249.        , 250.        , 251.        ,\n",
              "           4.60517019, 253.        , 254.        , 255.        ,\n",
              "         256.        , 257.        , 258.        , 259.        ],\n",
              "        [260.        , 261.        , 262.        , 263.        ,\n",
              "         264.        , 265.        , 266.        , 267.        ,\n",
              "         268.        , 269.        , 270.        , 271.        ,\n",
              "         272.        ,   4.60517019, 274.        , 275.        ,\n",
              "         276.        , 277.        , 278.        , 279.        ],\n",
              "        [280.        , 281.        , 282.        , 283.        ,\n",
              "         284.        , 285.        , 286.        , 287.        ,\n",
              "         288.        , 289.        , 290.        , 291.        ,\n",
              "         292.        , 293.        ,   4.60517019, 295.        ,\n",
              "         296.        , 297.        , 298.        , 299.        ],\n",
              "        [300.        , 301.        , 302.        , 303.        ,\n",
              "         304.        , 305.        , 306.        , 307.        ,\n",
              "         308.        , 309.        , 310.        , 311.        ,\n",
              "         312.        , 313.        , 314.        ,   4.60517019,\n",
              "         316.        , 317.        , 318.        , 319.        ],\n",
              "        [320.        , 321.        , 322.        , 323.        ,\n",
              "         324.        , 325.        , 326.        , 327.        ,\n",
              "         328.        , 329.        , 330.        , 331.        ,\n",
              "         332.        , 333.        , 334.        , 335.        ,\n",
              "           4.60517019, 337.        , 338.        , 339.        ],\n",
              "        [340.        , 341.        , 342.        , 343.        ,\n",
              "         344.        , 345.        , 346.        , 347.        ,\n",
              "         348.        , 349.        , 350.        , 351.        ,\n",
              "         352.        , 353.        , 354.        , 355.        ,\n",
              "         356.        ,   4.60517019, 358.        , 359.        ],\n",
              "        [360.        , 361.        , 362.        , 363.        ,\n",
              "         364.        , 365.        , 366.        , 367.        ,\n",
              "         368.        , 369.        , 370.        , 371.        ,\n",
              "         372.        , 373.        , 374.        , 375.        ,\n",
              "         376.        , 377.        ,   4.60517019, 379.        ],\n",
              "        [380.        , 381.        , 382.        , 383.        ,\n",
              "         384.        , 385.        , 386.        , 387.        ,\n",
              "         388.        , 389.        , 390.        , 391.        ,\n",
              "         392.        , 393.        , 394.        , 395.        ,\n",
              "         396.        , 397.        , 398.        ,   4.60517019]])"
            ]
          },
          "metadata": {
            "tags": []
          },
          "execution_count": 6
        }
      ]
    },
    {
      "cell_type": "code",
      "metadata": {
        "id": "eGrqOJXv6Dp_",
        "outputId": "9bbc86e3-96df-4486-9b1f-056244a031c4",
        "colab": {
          "base_uri": "https://localhost:8080/"
        }
      },
      "source": [
        "#func1 e func2 são a funções utilizada para achar os valores de dm+ dm-  da equação 16 do artigo\n",
        "def func1(x,y):\n",
        "  dmmpos1 = 1\n",
        "  dmmneg1 = 1\n",
        "  if x>=10 and y >=10:\n",
        "    if x>y:\n",
        "      dmmpos1 =(round((lista_ponto_medio_b1[x-10]-lista_ponto_medio_b1[y-10]),3)+delta/2)\n",
        "      dmmneg1 =(round((lista_ponto_medio_b1[x-10]-lista_ponto_medio_b1[y-10]),3)-delta/2)\n",
        "    else:\n",
        "      dmmpos1 =(round((lista_ponto_medio_b1[y-10]-lista_ponto_medio_b1[x-10]),3)+delta/2)\n",
        "      dmmneg1 =(round((lista_ponto_medio_b1[y-10]-lista_ponto_medio_b1[x-10]),3)-delta/2)\n",
        "\n",
        "  if x<10 and y <10:\n",
        "\n",
        "    if x>y:\n",
        "      dmmpos1 =(round((lista_ponto_medio_b1[x]-lista_ponto_medio_b1[y]),3)+delta/2)\n",
        "      dmmneg1 =(round((lista_ponto_medio_b1[x]-lista_ponto_medio_b1[y]),3)-delta/2)\n",
        "    else:\n",
        "      dmmpos1 =(round((lista_ponto_medio_b1[y]-lista_ponto_medio_b1[x]),3)+delta/2)\n",
        "      dmmneg1 =(round((lista_ponto_medio_b1[y]-lista_ponto_medio_b1[x]),3)-delta/2)\n",
        "  return dmmpos1 ,dmmneg1\n",
        "func1(0,1)"
      ],
      "execution_count": null,
      "outputs": [
        {
          "output_type": "execute_result",
          "data": {
            "text/plain": [
              "(0.15000000000000002, 0.05)"
            ]
          },
          "metadata": {
            "tags": []
          },
          "execution_count": 7
        }
      ]
    },
    {
      "cell_type": "code",
      "metadata": {
        "id": "chCuYUejtA28"
      },
      "source": [
        "def func2(x,y):\n",
        "  if x>y:\n",
        "    dmmpos11 =(round((lista_ponto_medio_b1[x-10]-lista_ponto_medio_b1[y]),3)+delta/2)\n",
        "    dmmneg11 =(round((lista_ponto_medio_b1[x-10]-lista_ponto_medio_b1[y]),3)-delta/2)\n",
        "  if y>x:\n",
        "    dmmpos11 =(round((lista_ponto_medio_b1[y-10]-lista_ponto_medio_b1[x]),3)+delta/2)\n",
        "    dmmneg11 =(round((lista_ponto_medio_b1[y-10]-lista_ponto_medio_b1[x]),3)-delta/2)\n",
        "  return dmmpos11, dmmneg11 "
      ],
      "execution_count": null,
      "outputs": []
    },
    {
      "cell_type": "code",
      "metadata": {
        "id": "7XfSmWMUVRK7",
        "outputId": "1d61b68e-9bbd-44ea-dc2e-e66a275b8c56",
        "colab": {
          "base_uri": "https://localhost:8080/"
        }
      },
      "source": [
        "#Substituindo os dados da matriz\n",
        "for x in range(20):\n",
        "  for y in range(20):\n",
        "    if x==y: #Para aos elementos da diagonal\n",
        "      matriz[x,y] = diagonal\n",
        "    elif x<10 and y<10:  #Para os elementos que estão no mesmo fio\n",
        "      a = x\n",
        "      b = y\n",
        "      dmmpos1, dmmneg1 = func1(a,b)\n",
        "      matriz[x,y] = math.log(dmmpos1/dmmneg1)\n",
        "      #print(a,b)\n",
        "    elif x>=10 and y>=10:\n",
        "      a = x\n",
        "      b = y\n",
        "      dmmpos2, dmmneg2 = func1(a,b)\n",
        "      matriz[x,y] = math.log(dmmpos2/dmmneg2)\n",
        "      #print(a,b)\n",
        "    else:  #Para os elementos que estão em dois fios\n",
        "      a = x\n",
        "      b = y\n",
        "      dmmpos3,dmmneg3 = func2(a,b)\n",
        "      matriz[x,y] = math.log((dmmpos3 + math.sqrt(dmmpos3**2 +dist_y**2))/(dmmneg3+ math.sqrt(dmmneg3**2 +dist_y**2)))\n",
        "      print(a,b,dmmpos3,dmmneg3)\n",
        "\n",
        "\n"
      ],
      "execution_count": null,
      "outputs": [
        {
          "output_type": "stream",
          "text": [
            "0 10 0.05 -0.05\n",
            "0 11 0.15000000000000002 0.05\n",
            "0 12 0.25 0.15000000000000002\n",
            "0 13 0.35 0.25\n",
            "0 14 0.45 0.35000000000000003\n",
            "0 15 0.55 0.45\n",
            "0 16 0.65 0.5499999999999999\n",
            "0 17 0.75 0.6499999999999999\n",
            "0 18 0.8500000000000001 0.75\n",
            "0 19 0.9500000000000001 0.85\n",
            "1 10 -0.05 -0.15000000000000002\n",
            "1 11 0.05 -0.05\n",
            "1 12 0.15000000000000002 0.05\n",
            "1 13 0.25 0.15000000000000002\n",
            "1 14 0.35 0.25\n",
            "1 15 0.45 0.35000000000000003\n",
            "1 16 0.55 0.45\n",
            "1 17 0.65 0.5499999999999999\n",
            "1 18 0.75 0.6499999999999999\n",
            "1 19 0.8500000000000001 0.75\n",
            "2 10 -0.15000000000000002 -0.25\n",
            "2 11 -0.05 -0.15000000000000002\n",
            "2 12 0.05 -0.05\n",
            "2 13 0.15000000000000002 0.05\n",
            "2 14 0.25 0.15000000000000002\n",
            "2 15 0.35 0.25\n",
            "2 16 0.45 0.35000000000000003\n",
            "2 17 0.55 0.45\n",
            "2 18 0.65 0.5499999999999999\n",
            "2 19 0.75 0.6499999999999999\n",
            "3 10 -0.25 -0.35\n",
            "3 11 -0.15000000000000002 -0.25\n",
            "3 12 -0.05 -0.15000000000000002\n",
            "3 13 0.05 -0.05\n",
            "3 14 0.15000000000000002 0.05\n",
            "3 15 0.25 0.15000000000000002\n",
            "3 16 0.35 0.25\n",
            "3 17 0.45 0.35000000000000003\n",
            "3 18 0.55 0.45\n",
            "3 19 0.65 0.5499999999999999\n",
            "4 10 -0.35000000000000003 -0.45\n",
            "4 11 -0.25 -0.35\n",
            "4 12 -0.15000000000000002 -0.25\n",
            "4 13 -0.05 -0.15000000000000002\n",
            "4 14 0.05 -0.05\n",
            "4 15 0.15000000000000002 0.05\n",
            "4 16 0.25 0.15000000000000002\n",
            "4 17 0.35 0.25\n",
            "4 18 0.45 0.35000000000000003\n",
            "4 19 0.55 0.45\n",
            "5 10 -0.45 -0.55\n",
            "5 11 -0.35000000000000003 -0.45\n",
            "5 12 -0.25 -0.35\n",
            "5 13 -0.15000000000000002 -0.25\n",
            "5 14 -0.05 -0.15000000000000002\n",
            "5 15 0.05 -0.05\n",
            "5 16 0.15000000000000002 0.05\n",
            "5 17 0.25 0.15000000000000002\n",
            "5 18 0.35 0.25\n",
            "5 19 0.45 0.35000000000000003\n",
            "6 10 -0.5499999999999999 -0.65\n",
            "6 11 -0.45 -0.55\n",
            "6 12 -0.35000000000000003 -0.45\n",
            "6 13 -0.25 -0.35\n",
            "6 14 -0.15000000000000002 -0.25\n",
            "6 15 -0.05 -0.15000000000000002\n",
            "6 16 0.05 -0.05\n",
            "6 17 0.15000000000000002 0.05\n",
            "6 18 0.25 0.15000000000000002\n",
            "6 19 0.35 0.25\n",
            "7 10 -0.6499999999999999 -0.75\n",
            "7 11 -0.5499999999999999 -0.65\n",
            "7 12 -0.45 -0.55\n",
            "7 13 -0.35000000000000003 -0.45\n",
            "7 14 -0.25 -0.35\n",
            "7 15 -0.15000000000000002 -0.25\n",
            "7 16 -0.05 -0.15000000000000002\n",
            "7 17 0.05 -0.05\n",
            "7 18 0.15000000000000002 0.05\n",
            "7 19 0.25 0.15000000000000002\n",
            "8 10 -0.75 -0.8500000000000001\n",
            "8 11 -0.6499999999999999 -0.75\n",
            "8 12 -0.5499999999999999 -0.65\n",
            "8 13 -0.45 -0.55\n",
            "8 14 -0.35000000000000003 -0.45\n",
            "8 15 -0.25 -0.35\n",
            "8 16 -0.15000000000000002 -0.25\n",
            "8 17 -0.05 -0.15000000000000002\n",
            "8 18 0.05 -0.05\n",
            "8 19 0.15000000000000002 0.05\n",
            "9 10 -0.85 -0.9500000000000001\n",
            "9 11 -0.75 -0.8500000000000001\n",
            "9 12 -0.6499999999999999 -0.75\n",
            "9 13 -0.5499999999999999 -0.65\n",
            "9 14 -0.45 -0.55\n",
            "9 15 -0.35000000000000003 -0.45\n",
            "9 16 -0.25 -0.35\n",
            "9 17 -0.15000000000000002 -0.25\n",
            "9 18 -0.05 -0.15000000000000002\n",
            "9 19 0.05 -0.05\n",
            "10 0 0.05 -0.05\n",
            "10 1 -0.05 -0.15000000000000002\n",
            "10 2 -0.15000000000000002 -0.25\n",
            "10 3 -0.25 -0.35\n",
            "10 4 -0.35000000000000003 -0.45\n",
            "10 5 -0.45 -0.55\n",
            "10 6 -0.5499999999999999 -0.65\n",
            "10 7 -0.6499999999999999 -0.75\n",
            "10 8 -0.75 -0.8500000000000001\n",
            "10 9 -0.85 -0.9500000000000001\n",
            "11 0 0.15000000000000002 0.05\n",
            "11 1 0.05 -0.05\n",
            "11 2 -0.05 -0.15000000000000002\n",
            "11 3 -0.15000000000000002 -0.25\n",
            "11 4 -0.25 -0.35\n",
            "11 5 -0.35000000000000003 -0.45\n",
            "11 6 -0.45 -0.55\n",
            "11 7 -0.5499999999999999 -0.65\n",
            "11 8 -0.6499999999999999 -0.75\n",
            "11 9 -0.75 -0.8500000000000001\n",
            "12 0 0.25 0.15000000000000002\n",
            "12 1 0.15000000000000002 0.05\n",
            "12 2 0.05 -0.05\n",
            "12 3 -0.05 -0.15000000000000002\n",
            "12 4 -0.15000000000000002 -0.25\n",
            "12 5 -0.25 -0.35\n",
            "12 6 -0.35000000000000003 -0.45\n",
            "12 7 -0.45 -0.55\n",
            "12 8 -0.5499999999999999 -0.65\n",
            "12 9 -0.6499999999999999 -0.75\n",
            "13 0 0.35 0.25\n",
            "13 1 0.25 0.15000000000000002\n",
            "13 2 0.15000000000000002 0.05\n",
            "13 3 0.05 -0.05\n",
            "13 4 -0.05 -0.15000000000000002\n",
            "13 5 -0.15000000000000002 -0.25\n",
            "13 6 -0.25 -0.35\n",
            "13 7 -0.35000000000000003 -0.45\n",
            "13 8 -0.45 -0.55\n",
            "13 9 -0.5499999999999999 -0.65\n",
            "14 0 0.45 0.35000000000000003\n",
            "14 1 0.35 0.25\n",
            "14 2 0.25 0.15000000000000002\n",
            "14 3 0.15000000000000002 0.05\n",
            "14 4 0.05 -0.05\n",
            "14 5 -0.05 -0.15000000000000002\n",
            "14 6 -0.15000000000000002 -0.25\n",
            "14 7 -0.25 -0.35\n",
            "14 8 -0.35000000000000003 -0.45\n",
            "14 9 -0.45 -0.55\n",
            "15 0 0.55 0.45\n",
            "15 1 0.45 0.35000000000000003\n",
            "15 2 0.35 0.25\n",
            "15 3 0.25 0.15000000000000002\n",
            "15 4 0.15000000000000002 0.05\n",
            "15 5 0.05 -0.05\n",
            "15 6 -0.05 -0.15000000000000002\n",
            "15 7 -0.15000000000000002 -0.25\n",
            "15 8 -0.25 -0.35\n",
            "15 9 -0.35000000000000003 -0.45\n",
            "16 0 0.65 0.5499999999999999\n",
            "16 1 0.55 0.45\n",
            "16 2 0.45 0.35000000000000003\n",
            "16 3 0.35 0.25\n",
            "16 4 0.25 0.15000000000000002\n",
            "16 5 0.15000000000000002 0.05\n",
            "16 6 0.05 -0.05\n",
            "16 7 -0.05 -0.15000000000000002\n",
            "16 8 -0.15000000000000002 -0.25\n",
            "16 9 -0.25 -0.35\n",
            "17 0 0.75 0.6499999999999999\n",
            "17 1 0.65 0.5499999999999999\n",
            "17 2 0.55 0.45\n",
            "17 3 0.45 0.35000000000000003\n",
            "17 4 0.35 0.25\n",
            "17 5 0.25 0.15000000000000002\n",
            "17 6 0.15000000000000002 0.05\n",
            "17 7 0.05 -0.05\n",
            "17 8 -0.05 -0.15000000000000002\n",
            "17 9 -0.15000000000000002 -0.25\n",
            "18 0 0.8500000000000001 0.75\n",
            "18 1 0.75 0.6499999999999999\n",
            "18 2 0.65 0.5499999999999999\n",
            "18 3 0.55 0.45\n",
            "18 4 0.45 0.35000000000000003\n",
            "18 5 0.35 0.25\n",
            "18 6 0.25 0.15000000000000002\n",
            "18 7 0.15000000000000002 0.05\n",
            "18 8 0.05 -0.05\n",
            "18 9 -0.05 -0.15000000000000002\n",
            "19 0 0.9500000000000001 0.85\n",
            "19 1 0.8500000000000001 0.75\n",
            "19 2 0.75 0.6499999999999999\n",
            "19 3 0.65 0.5499999999999999\n",
            "19 4 0.55 0.45\n",
            "19 5 0.45 0.35000000000000003\n",
            "19 6 0.35 0.25\n",
            "19 7 0.25 0.15000000000000002\n",
            "19 8 0.15000000000000002 0.05\n",
            "19 9 0.05 -0.05\n"
          ],
          "name": "stdout"
        }
      ]
    },
    {
      "cell_type": "markdown",
      "metadata": {
        "id": "4sB5CbISLkfA"
      },
      "source": [
        "# Resolvendo o sistema linear "
      ]
    },
    {
      "cell_type": "code",
      "metadata": {
        "id": "eEPyGWIaLuGC",
        "outputId": "748f992b-b220-4f09-fe2e-f9cb93325996",
        "colab": {
          "base_uri": "https://localhost:8080/"
        }
      },
      "source": [
        "#Utilizando a função np.linalg.solve\n",
        "permissividade = 8.854*10**(-12)  #permissividade elétrica no vácuo\n",
        "npi = 3.14\n",
        "resultado_final = 4*npi*permissividade*2  #Resultado de 4piepsilon*2volts\n",
        "#Criando o array de resultados, considerando que a tensão é a mesma em todos os pontos das barras\n",
        "B = np.repeat(resultado_final,20 )\n",
        "B\n",
        "C = np.repeat(resultado_final,20)\n",
        "for x in range(10):\n",
        "  C[x+10] = (resultado_final*(-1))\n",
        "C\n",
        "\n"
      ],
      "execution_count": null,
      "outputs": [
        {
          "output_type": "execute_result",
          "data": {
            "text/plain": [
              "array([ 2.2241248e-10,  2.2241248e-10,  2.2241248e-10,  2.2241248e-10,\n",
              "        2.2241248e-10,  2.2241248e-10,  2.2241248e-10,  2.2241248e-10,\n",
              "        2.2241248e-10,  2.2241248e-10, -2.2241248e-10, -2.2241248e-10,\n",
              "       -2.2241248e-10, -2.2241248e-10, -2.2241248e-10, -2.2241248e-10,\n",
              "       -2.2241248e-10, -2.2241248e-10, -2.2241248e-10, -2.2241248e-10])"
            ]
          },
          "metadata": {
            "tags": []
          },
          "execution_count": 10
        }
      ]
    },
    {
      "cell_type": "code",
      "metadata": {
        "id": "CQ2A4v5xPtz0",
        "outputId": "20ea4c14-0a36-4f72-99dc-c2e7eb1aea9c",
        "colab": {
          "base_uri": "https://localhost:8080/"
        }
      },
      "source": [
        "#Resolvendo o sistema linear\n",
        "condutividade = np.linalg.solve(matriz,B)\n",
        "condutividade"
      ],
      "execution_count": null,
      "outputs": [
        {
          "output_type": "execute_result",
          "data": {
            "text/plain": [
              "array([2.38769838e-11, 1.71339842e-11, 1.60107561e-11, 1.54707796e-11,\n",
              "       1.52520026e-11, 1.52520026e-11, 1.54707796e-11, 1.60107561e-11,\n",
              "       1.71339842e-11, 2.38769838e-11, 2.38769838e-11, 1.71339842e-11,\n",
              "       1.60107561e-11, 1.54707796e-11, 1.52520026e-11, 1.52520026e-11,\n",
              "       1.54707796e-11, 1.60107561e-11, 1.71339842e-11, 2.38769838e-11])"
            ]
          },
          "metadata": {
            "tags": []
          },
          "execution_count": 11
        }
      ]
    },
    {
      "cell_type": "code",
      "metadata": {
        "id": "mJe89Luuaw7D",
        "outputId": "e31b77de-5c68-4dac-962c-e79998b11308",
        "colab": {
          "base_uri": "https://localhost:8080/"
        }
      },
      "source": [
        "cond2 = np.linalg.solve(matriz,C) #Alterando os valores do potencial\n",
        "cond2"
      ],
      "execution_count": null,
      "outputs": [
        {
          "output_type": "execute_result",
          "data": {
            "text/plain": [
              "array([ 5.46397819e-11,  4.89004253e-11,  4.86581458e-11,  4.85278839e-11,\n",
              "        4.84849600e-11,  4.84849600e-11,  4.85278839e-11,  4.86581458e-11,\n",
              "        4.89004253e-11,  5.46397819e-11, -5.46397819e-11, -4.89004253e-11,\n",
              "       -4.86581458e-11, -4.85278839e-11, -4.84849600e-11, -4.84849600e-11,\n",
              "       -4.85278839e-11, -4.86581458e-11, -4.89004253e-11, -5.46397819e-11])"
            ]
          },
          "metadata": {
            "tags": []
          },
          "execution_count": 12
        }
      ]
    },
    {
      "cell_type": "code",
      "metadata": {
        "id": "5qd5YGC6ecvl",
        "outputId": "3d80ba08-5c2a-4e74-c0ec-08cd6ddfb2a5",
        "colab": {
          "base_uri": "https://localhost:8080/",
          "height": 295
        }
      },
      "source": [
        "#Plotando os gráficos\n",
        "lista_nova = lista_ponto_medio_b2\n",
        "lista_nova\n",
        "import matplotlib.pyplot as plt\n",
        "fig, axs = plt.subplots(2,2)\n",
        "axs[0,0].plot(lista_nova,condutividade[0:10])\n",
        "axs[0,0].set_title('Fio Positivo')\n",
        "axs[0,1].plot(lista_nova,condutividade[10:])\n",
        "axs[0,1].set_title('Fio Negativo')\n",
        "axs[1,0].plot(lista_nova,cond2[0:10])\n",
        "axs[1,0].set_title('Fio Positivo')\n",
        "axs[1,1].plot(lista_nova,cond2[10:])\n",
        "axs[1,1].set_title('Fio Negativo')\n",
        "for ax in axs.flat:\n",
        "    ax.set(xlabel='distancia', ylabel='densidade')\n",
        "for ax in axs.flat:\n",
        "    ax.label_outer()\n"
      ],
      "execution_count": null,
      "outputs": [
        {
          "output_type": "display_data",
          "data": {
            "image/png": "[encoded data removed]",
            "text/plain": [
              "<Figure size 432x288 with 4 Axes>"
            ]
          },
          "metadata": {
            "tags": [],
            "needs_background": "light"
          }
        }
      ]
    },
    {
      "cell_type": "code",
      "metadata": {
        "id": "z6L7nbhhfqJ2"
      },
      "source": [
        "fig = plt.figure()\n",
        "\n",
        "plt.subplot(2, 2, 1)\n",
        "plt.plot(lista_nova,condutividade[0:10] )\n",
        "\n",
        "\n",
        "plt.subplot(2, 2, 3)\n",
        "plt.plot(lista_nova, condutividade[10:])\n",
        "\n",
        "#plt.subplot(2, 2, 3)\n",
        "#plt.plot(x, y)\n",
        "\n",
        "#plt.subplot(2, 2, 4)\n",
        "#plt.plot(x, y)\n",
        "\n",
        "plt.show()"
      ],
      "execution_count": null,
      "outputs": []
    },
    {
      "cell_type": "code",
      "metadata": {
        "id": "qWXXvs8IKBsX",
        "outputId": "dbda4411-f1f5-431a-d054-6ab0168c05ba",
        "colab": {
          "base_uri": "https://localhost:8080/",
          "height": 310
        }
      },
      "source": [
        "fig, axs = plt.subplots(2, 1 )\n",
        "\n",
        "axs[0].plot(lista_nova,condutividade[0:10])\n",
        "axs[0].set_title('Fio 1')\n",
        "axs[0].set_xlabel('comprimento (m)')\n",
        "axs[0].set_ylabel('Densidade linear de cargas')\n",
        "#fig.suptitle('This is a somewhat long figure title', fontsize=16)\n",
        "\n",
        "axs[1].plot(lista_nova,condutividade[10:])\n",
        "axs[1].set_xlabel('comprimento (m)')\n",
        "axs[1].set_title('Fio 2')\n",
        "axs[1].set_ylabel('Densidade linear de carga')\n",
        "\n",
        "plt.subplots_adjust(hspace = 0.9)\n",
        "plt.show()"
      ],
      "execution_count": null,
      "outputs": [
        {
          "output_type": "display_data",
          "data": {
            "image/png": "[encoded data removed]",
            "text/plain": [
              "<Figure size 432x288 with 2 Axes>"
            ]
          },
          "metadata": {
            "tags": [],
            "needs_background": "light"
          }
        }
      ]
    },
    {
      "cell_type": "code",
      "metadata": {
        "id": "oP9g4dgSMQK9",
        "outputId": "e384a5f6-9d48-4ed1-9027-c33e06b183b0",
        "colab": {
          "base_uri": "https://localhost:8080/",
          "height": 359
        }
      },
      "source": [
        "import pandas as pd\n",
        "df2 = pd.DataFrame(lista_nova,condutividade[0:10]) \n",
        "#df1.rename('densidade linear de cargas', 'Comprimento')\n",
        "df2\n",
        "df\n",
        "\n"
      ],
      "execution_count": null,
      "outputs": [
        {
          "output_type": "execute_result",
          "data": {
            "text/html": [
              "<div>\n",
              "<style scoped>\n",
              "    .dataframe tbody tr th:only-of-type {\n",
              "        vertical-align: middle;\n",
              "    }\n",
              "\n",
              "    .dataframe tbody tr th {\n",
              "        vertical-align: top;\n",
              "    }\n",
              "\n",
              "    .dataframe thead th {\n",
              "        text-align: right;\n",
              "    }\n",
              "</style>\n",
              "<table border=\"1\" class=\"dataframe\">\n",
              "  <thead>\n",
              "    <tr style=\"text-align: right;\">\n",
              "      <th></th>\n",
              "      <th>0</th>\n",
              "    </tr>\n",
              "  </thead>\n",
              "  <tbody>\n",
              "    <tr>\n",
              "      <th>2.387698e-11</th>\n",
              "      <td>0.05</td>\n",
              "    </tr>\n",
              "    <tr>\n",
              "      <th>1.713398e-11</th>\n",
              "      <td>0.15</td>\n",
              "    </tr>\n",
              "    <tr>\n",
              "      <th>1.601076e-11</th>\n",
              "      <td>0.25</td>\n",
              "    </tr>\n",
              "    <tr>\n",
              "      <th>1.547078e-11</th>\n",
              "      <td>0.35</td>\n",
              "    </tr>\n",
              "    <tr>\n",
              "      <th>1.525200e-11</th>\n",
              "      <td>0.45</td>\n",
              "    </tr>\n",
              "    <tr>\n",
              "      <th>1.525200e-11</th>\n",
              "      <td>0.55</td>\n",
              "    </tr>\n",
              "    <tr>\n",
              "      <th>1.547078e-11</th>\n",
              "      <td>0.65</td>\n",
              "    </tr>\n",
              "    <tr>\n",
              "      <th>1.601076e-11</th>\n",
              "      <td>0.75</td>\n",
              "    </tr>\n",
              "    <tr>\n",
              "      <th>1.713398e-11</th>\n",
              "      <td>0.85</td>\n",
              "    </tr>\n",
              "    <tr>\n",
              "      <th>2.387698e-11</th>\n",
              "      <td>0.95</td>\n",
              "    </tr>\n",
              "  </tbody>\n",
              "</table>\n",
              "</div>"
            ],
            "text/plain": [
              "                 0\n",
              "2.387698e-11  0.05\n",
              "1.713398e-11  0.15\n",
              "1.601076e-11  0.25\n",
              "1.547078e-11  0.35\n",
              "1.525200e-11  0.45\n",
              "1.525200e-11  0.55\n",
              "1.547078e-11  0.65\n",
              "1.601076e-11  0.75\n",
              "1.713398e-11  0.85\n",
              "2.387698e-11  0.95"
            ]
          },
          "metadata": {
            "tags": []
          },
          "execution_count": 44
        }
      ]
    },
    {
      "cell_type": "code",
      "metadata": {
        "id": "RRSJ7CN7gwId",
        "outputId": "6f2a8c25-6047-440a-dd1e-546e548410dc",
        "colab": {
          "base_uri": "https://localhost:8080/",
          "height": 359
        }
      },
      "source": [
        "df=pd.DataFrame({\"X(metros)\":lista_nova, \n",
        "                 \"Densidade Linear de carga\":condutividade[0:10]}) \n",
        "df"
      ],
      "execution_count": null,
      "outputs": [
        {
          "output_type": "execute_result",
          "data": {
            "text/html": [
              "<div>\n",
              "<style scoped>\n",
              "    .dataframe tbody tr th:only-of-type {\n",
              "        vertical-align: middle;\n",
              "    }\n",
              "\n",
              "    .dataframe tbody tr th {\n",
              "        vertical-align: top;\n",
              "    }\n",
              "\n",
              "    .dataframe thead th {\n",
              "        text-align: right;\n",
              "    }\n",
              "</style>\n",
              "<table border=\"1\" class=\"dataframe\">\n",
              "  <thead>\n",
              "    <tr style=\"text-align: right;\">\n",
              "      <th></th>\n",
              "      <th>X(metros)</th>\n",
              "      <th>Densidade Linear de carga</th>\n",
              "    </tr>\n",
              "  </thead>\n",
              "  <tbody>\n",
              "    <tr>\n",
              "      <th>0</th>\n",
              "      <td>0.05</td>\n",
              "      <td>2.387698e-11</td>\n",
              "    </tr>\n",
              "    <tr>\n",
              "      <th>1</th>\n",
              "      <td>0.15</td>\n",
              "      <td>1.713398e-11</td>\n",
              "    </tr>\n",
              "    <tr>\n",
              "      <th>2</th>\n",
              "      <td>0.25</td>\n",
              "      <td>1.601076e-11</td>\n",
              "    </tr>\n",
              "    <tr>\n",
              "      <th>3</th>\n",
              "      <td>0.35</td>\n",
              "      <td>1.547078e-11</td>\n",
              "    </tr>\n",
              "    <tr>\n",
              "      <th>4</th>\n",
              "      <td>0.45</td>\n",
              "      <td>1.525200e-11</td>\n",
              "    </tr>\n",
              "    <tr>\n",
              "      <th>5</th>\n",
              "      <td>0.55</td>\n",
              "      <td>1.525200e-11</td>\n",
              "    </tr>\n",
              "    <tr>\n",
              "      <th>6</th>\n",
              "      <td>0.65</td>\n",
              "      <td>1.547078e-11</td>\n",
              "    </tr>\n",
              "    <tr>\n",
              "      <th>7</th>\n",
              "      <td>0.75</td>\n",
              "      <td>1.601076e-11</td>\n",
              "    </tr>\n",
              "    <tr>\n",
              "      <th>8</th>\n",
              "      <td>0.85</td>\n",
              "      <td>1.713398e-11</td>\n",
              "    </tr>\n",
              "    <tr>\n",
              "      <th>9</th>\n",
              "      <td>0.95</td>\n",
              "      <td>2.387698e-11</td>\n",
              "    </tr>\n",
              "  </tbody>\n",
              "</table>\n",
              "</div>"
            ],
            "text/plain": [
              "   X(metros)  Densidade Linear de carga\n",
              "0       0.05               2.387698e-11\n",
              "1       0.15               1.713398e-11\n",
              "2       0.25               1.601076e-11\n",
              "3       0.35               1.547078e-11\n",
              "4       0.45               1.525200e-11\n",
              "5       0.55               1.525200e-11\n",
              "6       0.65               1.547078e-11\n",
              "7       0.75               1.601076e-11\n",
              "8       0.85               1.713398e-11\n",
              "9       0.95               2.387698e-11"
            ]
          },
          "metadata": {
            "tags": []
          },
          "execution_count": 49
        }
      ]
    }
  ]
}